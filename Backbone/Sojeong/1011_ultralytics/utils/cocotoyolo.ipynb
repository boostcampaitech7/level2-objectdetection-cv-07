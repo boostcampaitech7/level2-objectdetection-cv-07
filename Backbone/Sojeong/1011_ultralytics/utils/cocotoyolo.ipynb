{
 "cells": [
  {
   "cell_type": "code",
   "execution_count": 1,
   "metadata": {},
   "outputs": [],
   "source": [
    "#!pip install ultralytics"
   ]
  },
  {
   "cell_type": "markdown",
   "metadata": {},
   "source": [
    "# Dataset : COCO format -> YOLO format"
   ]
  },
  {
   "cell_type": "markdown",
   "metadata": {},
   "source": [
    "https://docs.ultralytics.com/datasets/detect/#ultralytics-yolo-format"
   ]
  },
  {
   "cell_type": "code",
   "execution_count": 7,
   "metadata": {},
   "outputs": [],
   "source": [
    "import os\n",
    "import json\n",
    "import shutil\n",
    "\n",
    "def copy_images(coco_json_path, src_image_dir, dest_image_dir):\n",
    "    with open(coco_json_path, 'r') as f:\n",
    "        coco_data = json.load(f)\n",
    "\n",
    "    images = coco_data['images']\n",
    "\n",
    "    for image_info in images:\n",
    "        file_name = image_info['file_name']\n",
    "        src_file_path = os.path.join(src_image_dir, file_name)\n",
    "        dest_file_path = os.path.join(dest_image_dir, os.path.basename(file_name))\n",
    "\n",
    "        os.makedirs(os.path.dirname(dest_file_path), exist_ok=True)\n",
    "\n",
    "        if os.path.exists(src_file_path):\n",
    "            shutil.copy(src_file_path, dest_file_path)\n",
    "        else:\n",
    "            print(f\"File {src_file_path} does not exist.\")\n",
    "\n",
    "# Paths\n",
    "train_coco_json = '/data/ephemeral/home/data/dataset/train_0_5.json'\n",
    "val_coco_json = '/data/ephemeral/home/data/dataset/valid_0_5.json'\n",
    "\n",
    "src_image_dir = '/data/ephemeral/home/data/dataset'\n",
    "train_dest_image_dir = '/data/ephemeral/home/data/images/train'\n",
    "val_dest_image_dir = '/data/ephemeral/home/data/images/valid'\n",
    "\n",
    "# Copy images\n",
    "copy_images(train_coco_json, src_image_dir, train_dest_image_dir)\n",
    "copy_images(val_coco_json, src_image_dir, val_dest_image_dir)"
   ]
  },
  {
   "cell_type": "code",
   "execution_count": 8,
   "metadata": {},
   "outputs": [],
   "source": [
    "# labels 만들기\n",
    "import os\n",
    "import json\n",
    "\n",
    "def convert_coco_to_yolo(coco_json_path, output_dir, image_dir):\n",
    "    with open(coco_json_path, 'r') as f:\n",
    "        coco_data = json.load(f)\n",
    "\n",
    "    images = {img['id']: img for img in coco_data['images']}\n",
    "    annotations = coco_data['annotations']\n",
    "    categories = {cat['id']: cat['name'] for cat in coco_data['categories']}\n",
    "\n",
    "    os.makedirs(output_dir, exist_ok=True)\n",
    "\n",
    "    for ann in annotations:\n",
    "        image_id = ann['image_id']\n",
    "        image_info = images[image_id]\n",
    "        file_name = image_info['file_name']\n",
    "        width = image_info['width']\n",
    "        height = image_info['height']\n",
    "\n",
    "        bbox = ann['bbox']\n",
    "        x_center = (bbox[0] + bbox[2] / 2) / width\n",
    "        y_center = (bbox[1] + bbox[3] / 2) / height\n",
    "        w = bbox[2] / width\n",
    "        h = bbox[3] / height\n",
    "\n",
    "        category_id = ann['category_id']\n",
    "        yolo_annotation = f\"{category_id} {x_center} {y_center} {w} {h}\\n\"\n",
    "\n",
    "        label_file_name = os.path.splitext(file_name)[0].replace('train/', '') + '.txt'\n",
    "        label_file_path = os.path.join(output_dir, label_file_name)\n",
    "\n",
    "        with open(label_file_path, 'a') as label_file:\n",
    "            label_file.write(yolo_annotation)\n",
    "\n",
    "# Paths\n",
    "train_coco_json = '/data/ephemeral/home/data/images/train_0_5.json'\n",
    "val_coco_json = '/data/ephemeral/home/data/images/valid_0_5.json'\n",
    "\n",
    "train_image_dir = '/data/ephemeral/home/data/images/train'\n",
    "val_image_dir = '/data/ephemeral/home/data/images/train'\n",
    "\n",
    "train_output_dir = '/data/ephemeral/home/data/labels/train'\n",
    "val_output_dir = '/data/ephemeral/home/data/labels/val'\n",
    "\n",
    "# Ensure output directories exist\n",
    "os.makedirs(train_output_dir, exist_ok=True)\n",
    "os.makedirs(val_output_dir, exist_ok=True)\n",
    "\n",
    "# Convert COCO to YOLO\n",
    "convert_coco_to_yolo(train_coco_json, train_output_dir, train_image_dir)\n",
    "convert_coco_to_yolo(val_coco_json, val_output_dir, val_image_dir)\n",
    "\n",
    "<class_id> <x_center> <y_center> <width> <height>"
   ]
  },
  {
   "cell_type": "code",
   "execution_count": 7,
   "metadata": {},
   "outputs": [],
   "source": [
    "# Paths\n",
    "test_coco_json = '/data/ephemeral/home/data/images/test.json'\n",
    "\n",
    "test_image_dir = '/data/ephemeral/home/data/images/test'\n",
    "\n",
    "test_output_dir = '/data/ephemeral/home/data/labels/test'\n",
    "\n",
    "# Ensure output directories exist\n",
    "os.makedirs(test_output_dir, exist_ok=True)\n",
    "\n",
    "# Convert COCO to YOLO\n",
    "convert_coco_to_yolo(test_coco_json, test_output_dir, test_image_dir)"
   ]
  }
 ],
 "metadata": {
  "kernelspec": {
   "display_name": "base",
   "language": "python",
   "name": "python3"
  },
  "language_info": {
   "codemirror_mode": {
    "name": "ipython",
    "version": 3
   },
   "file_extension": ".py",
   "mimetype": "text/x-python",
   "name": "python",
   "nbconvert_exporter": "python",
   "pygments_lexer": "ipython3",
   "version": "3.10.13"
  }
 },
 "nbformat": 4,
 "nbformat_minor": 2
}
