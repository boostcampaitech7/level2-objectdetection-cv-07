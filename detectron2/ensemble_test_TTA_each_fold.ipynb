{
 "cells": [
  {
   "cell_type": "code",
   "execution_count": 1,
   "metadata": {},
   "outputs": [],
   "source": [
    "import pandas as pd\n",
    "import numpy as np\n",
    "import ensemble_boxes \n",
    "from pycocotools.coco import COCO\n",
    "import itertools\n",
    "import os\n",
    "from tqdm import tqdm\n",
    "from copy import deepcopy"
   ]
  },
  {
   "cell_type": "code",
   "execution_count": 2,
   "metadata": {},
   "outputs": [],
   "source": [
    "algorithms = ['weighted_boxes_fusion']\n",
    "\n",
    "weights = [[1.0, 1.0]]\n",
    "\n",
    "iou_thresholds = np.arange(0.6, 0.81, 0.1).tolist()\n",
    "output_name_format = '1024_RCNN_test_TTA_{i}'\n",
    "output_fold = 'result/test'\n",
    "\n",
    "input_path_format1 = 'model/test/submission_{i}_5.csv'\n",
    "input_path_format2 = 'model/test/submission_{i}_5_flip.csv'\n",
    "json_path_format = '../../../../data/dataset/test.json'\n"
   ]
  },
  {
   "cell_type": "code",
   "execution_count": 3,
   "metadata": {},
   "outputs": [],
   "source": [
    "def get_box_score_label(submission_df, image_id, image_info):\n",
    "    boxes_list = []\n",
    "    scores_list = []\n",
    "    labels_list = []\n",
    "\n",
    "    # 각 submission file 별로 prediction box좌표 불러오기\n",
    "    for df in submission_df:\n",
    "        predict_string = df[df['image_id'] == image_id]['PredictionString'].tolist()[0]\n",
    "        predict_list = str(predict_string).split()\n",
    "\n",
    "        if len(predict_list)==0 or len(predict_list)==1:\n",
    "            continue\n",
    "\n",
    "        predict_list = np.reshape(predict_list, (-1, 6))\n",
    "        box_list = []\n",
    "\n",
    "        for box in predict_list[:, 2:6].tolist():\n",
    "            # box의 각 좌표를 float형으로 변환한 후 image의 넓이와 높이로 각각 정규화\n",
    "            image_width = image_info['width']\n",
    "            image_height = image_info['height']\n",
    "\n",
    "            box[0] = float(box[0]) / image_width\n",
    "            box[1] = float(box[1]) / image_height\n",
    "            box[2] = float(box[2]) / image_width\n",
    "            box[3] = float(box[3]) / image_height\n",
    "\n",
    "            box = np.clip(box, 0, 1).tolist()\n",
    "            box_list.append(box)\n",
    "\n",
    "        boxes_list.append(box_list)\n",
    "        scores_list.append(list(map(float, predict_list[:, 1].tolist())))\n",
    "        labels_list.append(list(map(int, predict_list[:, 0].tolist())))\n",
    "\n",
    "    return boxes_list, scores_list, labels_list\n",
    "\n",
    "\n",
    "def get_prediction(boxes, scores, labels, image_width, image_height):\n",
    "    prediction_string = \"\"\n",
    "    for box, score, label in zip(boxes, scores, labels):\n",
    "        xmin, ymin = box[0] * image_width, box[1] * image_height\n",
    "        xmax, ymax = box[2] * image_width, box[3] * image_height\n",
    "        prediction_string += f'{label:.0f} {score:.5f} {xmin:.2f} {ymin:.2f} {xmax:.2f} {ymax:.2f} '\n",
    "    return prediction_string"
   ]
  },
  {
   "cell_type": "code",
   "execution_count": 4,
   "metadata": {},
   "outputs": [],
   "source": [
    "def main(submission_file_paths, annotation_path, output_name, output_fold, algorithms, iou_thresholds, weights):\n",
    "    submission_df = [pd.read_csv(file) for file in submission_file_paths]\n",
    "    image_ids = submission_df[0]['image_id'].tolist()\n",
    "    coco = COCO(annotation_path)\n",
    "\n",
    "    conf = list(enumerate(list(itertools.product(algorithms, iou_thresholds, weights)))) # ensemble할 조건 리스트\n",
    "    results = [{'prediction_strings': [], 'file_names': []} for i in range(len(conf))] # 결과 저장 리스트 선언\n",
    "\n",
    "    # 각 image id 별로 submission file에서 box좌표 추출\n",
    "    for image_id in tqdm(image_ids):    \n",
    "        prediction_string = ''\n",
    "        boxes_list = []\n",
    "        scores_list = []\n",
    "        labels_list = []\n",
    "\n",
    "        image_id_int = int(image_id[6:-4])\n",
    "        image_info = coco.loadImgs(image_id_int)[0]\n",
    "        image_width = image_info['width']\n",
    "        image_height = image_info['height']\n",
    "\n",
    "        boxes_list, scores_list, labels_list = get_box_score_label(submission_df, image_id, image_info)\n",
    "        \n",
    "        # 예측 box가 있다면 ensemble 수행\n",
    "        if len(boxes_list):\n",
    "            # ensemble에 필요한 인자: [box의 lists, confidence score의 lists, label의 list, iou에 사용할 threshold]\n",
    "            for i, (algorithm, iou_threshold, weight) in conf:\n",
    "                boxes, scores, labels = getattr(ensemble_boxes, algorithm)(deepcopy(boxes_list), deepcopy(scores_list), deepcopy(labels_list), weights=deepcopy(weight), iou_thr=deepcopy(iou_threshold))\n",
    "                prediction_string = get_prediction(boxes, scores, labels, image_width, image_height)\n",
    "\n",
    "                results[i]['prediction_strings'].append(prediction_string)\n",
    "                results[i]['file_names'].append(image_id)    \n",
    "\n",
    "\n",
    "    os.makedirs(output_fold, exist_ok=True)\n",
    "    boxes_list, scores_list, labels_list = get_box_score_label(submission_df, image_id, image_info)\n",
    "\n",
    "    for i, (algorithm, iou_threshold, weight) in conf:\n",
    "        weight_str = [f'{i:.3f}' for i in weight]\n",
    "        new_output_name = output_name + f'_{algorithm}_th_{iou_threshold:.1f}_w_' + '_'.join(weight_str) + '.csv'\n",
    "        output_path = os.path.join(output_fold, new_output_name)\n",
    "\n",
    "        submission = pd.DataFrame()\n",
    "        submission['PredictionString'] = results[i]['prediction_strings']\n",
    "        submission['image_id'] = results[i]['file_names']\n",
    "\n",
    "        submission.to_csv(output_path, index=False)\n",
    "        submission.head()"
   ]
  },
  {
   "cell_type": "markdown",
   "metadata": {},
   "source": []
  },
  {
   "cell_type": "code",
   "execution_count": 5,
   "metadata": {},
   "outputs": [
    {
     "name": "stdout",
     "output_type": "stream",
     "text": [
      "loading annotations into memory...\n",
      "Done (t=0.01s)\n",
      "creating index...\n",
      "index created!\n"
     ]
    },
    {
     "name": "stderr",
     "output_type": "stream",
     "text": [
      " 32%|███▏      | 1541/4871 [00:10<00:21, 157.90it/s]"
     ]
    },
    {
     "name": "stdout",
     "output_type": "stream",
     "text": [
      "Warning: incorrect number of weights 2. Must be: 1. Set weights equal to 1.\n",
      "Warning: incorrect number of weights 2. Must be: 1. Set weights equal to 1.\n",
      "Warning: incorrect number of weights 2. Must be: 1. Set weights equal to 1.\n"
     ]
    },
    {
     "name": "stderr",
     "output_type": "stream",
     "text": [
      "100%|██████████| 4871/4871 [00:36<00:00, 134.23it/s]\n"
     ]
    },
    {
     "name": "stdout",
     "output_type": "stream",
     "text": [
      "loading annotations into memory...\n",
      "Done (t=0.01s)\n",
      "creating index...\n",
      "index created!\n"
     ]
    },
    {
     "name": "stderr",
     "output_type": "stream",
     "text": [
      " 31%|███       | 1490/4871 [00:09<00:19, 174.42it/s]"
     ]
    },
    {
     "name": "stdout",
     "output_type": "stream",
     "text": [
      "Warning: incorrect number of weights 2. Must be: 1. Set weights equal to 1.\n",
      "Warning: incorrect number of weights 2. Must be: 1. Set weights equal to 1.\n",
      "Warning: incorrect number of weights 2. Must be: 1. Set weights equal to 1.\n"
     ]
    },
    {
     "name": "stderr",
     "output_type": "stream",
     "text": [
      "100%|██████████| 4871/4871 [00:30<00:00, 161.02it/s]\n"
     ]
    },
    {
     "name": "stdout",
     "output_type": "stream",
     "text": [
      "loading annotations into memory...\n",
      "Done (t=0.01s)\n",
      "creating index...\n",
      "index created!\n"
     ]
    },
    {
     "name": "stderr",
     "output_type": "stream",
     "text": [
      "100%|██████████| 4871/4871 [00:32<00:00, 149.94it/s]\n"
     ]
    },
    {
     "name": "stdout",
     "output_type": "stream",
     "text": [
      "loading annotations into memory...\n",
      "Done (t=0.01s)\n",
      "creating index...\n",
      "index created!\n"
     ]
    },
    {
     "name": "stderr",
     "output_type": "stream",
     "text": [
      "100%|██████████| 4871/4871 [00:32<00:00, 149.39it/s]\n"
     ]
    },
    {
     "name": "stdout",
     "output_type": "stream",
     "text": [
      "loading annotations into memory...\n",
      "Done (t=0.01s)\n",
      "creating index...\n",
      "index created!\n"
     ]
    },
    {
     "name": "stderr",
     "output_type": "stream",
     "text": [
      " 31%|███▏      | 1525/4871 [00:09<00:19, 175.18it/s]"
     ]
    },
    {
     "name": "stdout",
     "output_type": "stream",
     "text": [
      "Warning: incorrect number of weights 2. Must be: 1. Set weights equal to 1.\n",
      "Warning: incorrect number of weights 2. Must be: 1. Set weights equal to 1.\n",
      "Warning: incorrect number of weights 2. Must be: 1. Set weights equal to 1.\n"
     ]
    },
    {
     "name": "stderr",
     "output_type": "stream",
     "text": [
      " 95%|█████████▍| 4614/4871 [00:30<00:01, 163.42it/s]"
     ]
    },
    {
     "name": "stdout",
     "output_type": "stream",
     "text": [
      "Warning: incorrect number of weights 2. Must be: 1. Set weights equal to 1.\n",
      "Warning: incorrect number of weights 2. Must be: 1. Set weights equal to 1.\n",
      "Warning: incorrect number of weights 2. Must be: 1. Set weights equal to 1.\n"
     ]
    },
    {
     "name": "stderr",
     "output_type": "stream",
     "text": [
      "100%|██████████| 4871/4871 [00:31<00:00, 152.28it/s]\n"
     ]
    }
   ],
   "source": [
    "\n",
    "for i in range(5):\n",
    "    submission_file_paths = [input_path_format1.format(i=i), input_path_format2.format(i=i)]\n",
    "    annotation_path = json_path_format.format(i=i)\n",
    "    output_name = output_name_format.format(i=i)\n",
    "    \n",
    "    main(submission_file_paths, annotation_path, output_name, output_fold, algorithms, iou_thresholds, weights)"
   ]
  },
  {
   "cell_type": "code",
   "execution_count": null,
   "metadata": {},
   "outputs": [],
   "source": []
  }
 ],
 "metadata": {
  "kernelspec": {
   "display_name": "pytorch_project2",
   "language": "python",
   "name": "python3"
  },
  "language_info": {
   "codemirror_mode": {
    "name": "ipython",
    "version": 3
   },
   "file_extension": ".py",
   "mimetype": "text/x-python",
   "name": "python",
   "nbconvert_exporter": "python",
   "pygments_lexer": "ipython3",
   "version": "3.10.14"
  }
 },
 "nbformat": 4,
 "nbformat_minor": 2
}
