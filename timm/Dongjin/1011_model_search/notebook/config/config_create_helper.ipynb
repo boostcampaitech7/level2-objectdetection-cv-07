{
 "cells": [
  {
   "cell_type": "code",
   "execution_count": 2,
   "metadata": {},
   "outputs": [],
   "source": [
    "import sys\n",
    "import os\n",
    "\n",
    "sys.path.append('../../')\n",
    "import utils\n"
   ]
  },
  {
   "cell_type": "code",
   "execution_count": 3,
   "metadata": {},
   "outputs": [
    {
     "ename": "KeyError",
     "evalue": "'model_name'",
     "output_type": "error",
     "traceback": [
      "\u001b[0;31m---------------------------------------------------------------------------\u001b[0m",
      "\u001b[0;31mKeyError\u001b[0m                                  Traceback (most recent call last)",
      "Cell \u001b[0;32mIn[3], line 15\u001b[0m\n\u001b[1;32m     13\u001b[0m conf[\u001b[38;5;124m'\u001b[39m\u001b[38;5;124mtrain_info_name\u001b[39m\u001b[38;5;124m'\u001b[39m] \u001b[38;5;241m=\u001b[39m train_info_name\n\u001b[1;32m     14\u001b[0m conf[\u001b[38;5;124m'\u001b[39m\u001b[38;5;124mvalid_info_name\u001b[39m\u001b[38;5;124m'\u001b[39m] \u001b[38;5;241m=\u001b[39m valid_info_name\n\u001b[0;32m---> 15\u001b[0m conf[\u001b[38;5;124m\"\u001b[39m\u001b[38;5;124moutput_dir_format\u001b[39m\u001b[38;5;124m\"\u001b[39m] \u001b[38;5;241m=\u001b[39m \u001b[38;5;124;43m\"\u001b[39;49m\u001b[38;5;132;43;01m{model_name}\u001b[39;49;00m\u001b[38;5;124;43m_\u001b[39;49m\u001b[38;5;132;43;01m{i}\u001b[39;49;00m\u001b[38;5;124;43m_img_size_\u001b[39;49m\u001b[38;5;132;43;01m{image_size}\u001b[39;49;00m\u001b[38;5;124;43m\"\u001b[39;49m\u001b[38;5;241;43m.\u001b[39;49m\u001b[43mformat\u001b[49m\u001b[43m(\u001b[49m\u001b[43mi\u001b[49m\u001b[38;5;241;43m=\u001b[39;49m\u001b[43mi\u001b[49m\u001b[43m)\u001b[49m\n\u001b[1;32m     17\u001b[0m save_path \u001b[38;5;241m=\u001b[39m os\u001b[38;5;241m.\u001b[39mpath\u001b[38;5;241m.\u001b[39mjoin(save_fold, \u001b[38;5;124mf\u001b[39m\u001b[38;5;124m'\u001b[39m\u001b[38;5;132;01m{\u001b[39;00mfilename\u001b[38;5;132;01m}\u001b[39;00m\u001b[38;5;132;01m{\u001b[39;00mi\u001b[38;5;132;01m}\u001b[39;00m\u001b[38;5;124m.json\u001b[39m\u001b[38;5;124m'\u001b[39m)\n\u001b[1;32m     18\u001b[0m utils\u001b[38;5;241m.\u001b[39msave_json(conf, save_path)\n",
      "\u001b[0;31mKeyError\u001b[0m: 'model_name'"
     ]
    }
   ],
   "source": [
    "filename = 'exp'\n",
    "save_fold = 'result'\n",
    "\n",
    "conf = utils.read_json(filename + '.json')\n",
    "\n",
    "train_info_name = \"train_{i}_5.json\"\n",
    "valid_info_name = \"valid_{i}_5.json\"\n",
    "\n",
    "for i in range(5):\n",
    "    train_info_name = f\"train_{i}_5.json\"\n",
    "    valid_info_name = f\"valid_{i}_5.json\"\n",
    "\n",
    "    conf['train_info_name'] = train_info_name\n",
    "    conf['valid_info_name'] = valid_info_name\n",
    "    conf[\"output_dir_format\"] = f\"{{model_name}}_{i}_img_size_{{image_size}}\"\n",
    "\n",
    "    save_path = os.path.join(save_fold, f'{filename}{i}.json')\n",
    "    utils.save_json(conf, save_path)\n"
   ]
  },
  {
   "cell_type": "code",
   "execution_count": null,
   "metadata": {},
   "outputs": [],
   "source": []
  }
 ],
 "metadata": {
  "kernelspec": {
   "display_name": "base",
   "language": "python",
   "name": "python3"
  },
  "language_info": {
   "codemirror_mode": {
    "name": "ipython",
    "version": 3
   },
   "file_extension": ".py",
   "mimetype": "text/x-python",
   "name": "python",
   "nbconvert_exporter": "python",
   "pygments_lexer": "ipython3",
   "version": "3.10.13"
  }
 },
 "nbformat": 4,
 "nbformat_minor": 2
}
