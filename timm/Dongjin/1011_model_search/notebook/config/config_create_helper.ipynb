{
 "cells": [
  {
   "cell_type": "code",
   "execution_count": 22,
   "metadata": {},
   "outputs": [],
   "source": [
    "import sys\n",
    "import os\n",
    "\n",
    "sys.path.append('../../')\n",
    "import utils\n"
   ]
  },
  {
   "cell_type": "code",
   "execution_count": 25,
   "metadata": {},
   "outputs": [],
   "source": [
    "filename = 'exp'\n",
    "save_fold = 'result'\n",
    "\n",
    "conf = utils.read_json(filename + '.json')\n",
    "\n",
    "train_info_name = \"train_{i}_5.json\"\n",
    "valid_info_name = \"valid_{i}_5.json\"\n",
    "\n",
    "for i in range(5):\n",
    "    train_info_name = f\"train_{i}_5.json\"\n",
    "    valid_info_name = f\"valid_{i}_5.json\"\n",
    "\n",
    "    conf['train_info_name'] = train_info_name\n",
    "    conf['valid_info_name'] = valid_info_name\n",
    "\n",
    "    save_path = os.path.join(save_fold, f'{filename}{i}.json')\n",
    "    utils.save_json(conf, save_path)\n"
   ]
  },
  {
   "cell_type": "code",
   "execution_count": null,
   "metadata": {},
   "outputs": [],
   "source": []
  }
 ],
 "metadata": {
  "kernelspec": {
   "display_name": "base",
   "language": "python",
   "name": "python3"
  },
  "language_info": {
   "codemirror_mode": {
    "name": "ipython",
    "version": 3
   },
   "file_extension": ".py",
   "mimetype": "text/x-python",
   "name": "python",
   "nbconvert_exporter": "python",
   "pygments_lexer": "ipython3",
   "version": "3.10.13"
  }
 },
 "nbformat": 4,
 "nbformat_minor": 2
}
