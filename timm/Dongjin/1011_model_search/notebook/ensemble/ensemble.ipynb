{
 "cells": [
  {
   "cell_type": "code",
   "execution_count": 1,
   "metadata": {},
   "outputs": [],
   "source": [
    "import pandas as pd\n",
    "import numpy as np\n",
    "import ensemble_boxes \n",
    "from pycocotools.coco import COCO\n",
    "import itertools\n",
    "import os\n",
    "from tqdm import tqdm"
   ]
  },
  {
   "cell_type": "code",
   "execution_count": 2,
   "metadata": {},
   "outputs": [
    {
     "name": "stdout",
     "output_type": "stream",
     "text": [
      "loading annotations into memory...\n",
      "Done (t=0.01s)\n",
      "creating index...\n",
      "index created!\n"
     ]
    }
   ],
   "source": [
    "num_file = 5\n",
    "algorithms = ['nms', 'soft_nms', 'non_maximum_weighted', 'weighted_boxes_fusion']\n",
    "iou_thresholds = np.arange(0.1, 0.91, 0.1).tolist()\n",
    "output_name_format = '1011_deta_{num_file}_fold_{algorithm}_{iou_threshold:.1f}.csv'\n",
    "output_fold = 'result'\n",
    "\n",
    "submission_file_format = '../../result/jozhang97/deta-swin-large_{i}/deta-swin-large_{i}.csv'\n",
    "annotation_path = '/data/ephemeral/home/data/dataset/test.json'\n",
    "\n",
    "submission_file_paths = []\n",
    "\n",
    "for i in range(num_file):\n",
    "    submission_file_path = submission_file_format.format(i = i)\n",
    "    submission_file_paths.append(submission_file_path)\n",
    "\n",
    "submission_df = [pd.read_csv(file) for file in submission_file_paths]\n",
    "image_ids = submission_df[0]['image_id'].tolist()\n",
    "\n",
    "coco = COCO(annotation_path)"
   ]
  },
  {
   "cell_type": "code",
   "execution_count": 3,
   "metadata": {},
   "outputs": [],
   "source": [
    "def get_box_score_label(submission_df, image_id, image_info):\n",
    "    boxes_list = []\n",
    "    scores_list = []\n",
    "    labels_list = []\n",
    "\n",
    "    # 각 submission file 별로 prediction box좌표 불러오기\n",
    "    for df in submission_df:\n",
    "        predict_string = df[df['image_id'] == image_id]['PredictionString'].tolist()[0]\n",
    "        predict_list = str(predict_string).split()\n",
    "\n",
    "        if len(predict_list)==0 or len(predict_list)==1:\n",
    "            continue\n",
    "\n",
    "        predict_list = np.reshape(predict_list, (-1, 6))\n",
    "        box_list = []\n",
    "\n",
    "        for box in predict_list[:, 2:6].tolist():\n",
    "            # box의 각 좌표를 float형으로 변환한 후 image의 넓이와 높이로 각각 정규화\n",
    "            image_width = image_info['width']\n",
    "            image_height = image_info['height']\n",
    "\n",
    "            box[0] = float(box[0]) / image_width\n",
    "            box[1] = float(box[1]) / image_height\n",
    "            box[2] = float(box[2]) / image_width\n",
    "            box[3] = float(box[3]) / image_height\n",
    "\n",
    "            box = np.clip(box, 0, 1).tolist()\n",
    "            box_list.append(box)\n",
    "\n",
    "        boxes_list.append(box_list)\n",
    "        scores_list.append(list(map(float, predict_list[:, 1].tolist())))\n",
    "        labels_list.append(list(map(int, predict_list[:, 0].tolist())))\n",
    "\n",
    "    return boxes_list, scores_list, labels_list\n",
    "\n",
    "\n",
    "def get_prediction(boxes, scores, labels, image_width, image_height):\n",
    "    prediction_string = \"\"\n",
    "    for box, score, label in zip(boxes, scores, labels):\n",
    "        xmin, ymin = box[0] * image_width, box[1] * image_height\n",
    "        xmax, ymax = box[2] * image_width, box[3] * image_height\n",
    "        prediction_string += f'{label:.0f} {score:.5f} {xmin:.2f} {ymin:.2f} {xmax:.2f} {ymax:.2f}'\n",
    "    return prediction_string"
   ]
  },
  {
   "cell_type": "code",
   "execution_count": 4,
   "metadata": {},
   "outputs": [
    {
     "name": "stderr",
     "output_type": "stream",
     "text": [
      "  0%|          | 0/4871 [00:00<?, ?it/s]"
     ]
    },
    {
     "name": "stderr",
     "output_type": "stream",
     "text": [
      "100%|██████████| 4871/4871 [19:16<00:00,  4.21it/s]\n"
     ]
    }
   ],
   "source": [
    "conf = list(enumerate(list(itertools.product(algorithms, iou_thresholds)))) # ensemble할 조건 리스트\n",
    "results = [{'prediction_strings': [], 'file_names': []} for i in range(len(conf))] # 결과 저장 리스트 선언\n",
    "\n",
    "# 각 image id 별로 submission file에서 box좌표 추출\n",
    "for i, image_id in enumerate(tqdm(image_ids)):    \n",
    "    prediction_string = ''\n",
    "    boxes_list = []\n",
    "    scores_list = []\n",
    "    labels_list = []\n",
    "\n",
    "    image_info = coco.loadImgs(i)[0]\n",
    "    image_width = image_info['width']\n",
    "    image_height = image_info['height']\n",
    "\n",
    "    boxes_list, scores_list, labels_list = get_box_score_label(submission_df, image_id, image_info)\n",
    "    \n",
    "    # 예측 box가 있다면 ensemble 수행\n",
    "    if len(boxes_list):\n",
    "        # ensemble에 필요한 인자: [box의 lists, confidence score의 lists, label의 list, iou에 사용할 threshold]\n",
    "        for j, (algorithm, iou_threshold) in conf:\n",
    "            boxes, scores, labels = getattr(ensemble_boxes, algorithm)(boxes_list, scores_list, labels_list, iou_thr=iou_threshold)\n",
    "            prediction_string = get_prediction(boxes, scores, labels, image_width, image_height)\n",
    "\n",
    "            results[j]['prediction_strings'].append(prediction_string)\n",
    "            results[j]['file_names'].append(image_id)    "
   ]
  },
  {
   "cell_type": "markdown",
   "metadata": {},
   "source": []
  },
  {
   "cell_type": "code",
   "execution_count": 5,
   "metadata": {},
   "outputs": [],
   "source": [
    "# 결과 저장하기\n",
    "os.makedirs(output_fold, exist_ok=True)\n",
    "\n",
    "for i, (algorithm, iou_threshold) in conf:\n",
    "    output_name = output_name_format.format(num_file=num_file, algorithm=algorithm, iou_threshold=iou_threshold)\n",
    "    output_path = os.path.join(output_fold, output_name)\n",
    "\n",
    "    submission = pd.DataFrame()\n",
    "    submission['PredictionString'] = results[i]['prediction_strings']\n",
    "    submission['image_id'] = results[i]['file_names']\n",
    "\n",
    "    submission.to_csv(output_path, index=False)\n",
    "    submission.head()"
   ]
  },
  {
   "cell_type": "code",
   "execution_count": null,
   "metadata": {},
   "outputs": [],
   "source": []
  }
 ],
 "metadata": {
  "kernelspec": {
   "display_name": "base",
   "language": "python",
   "name": "python3"
  },
  "language_info": {
   "codemirror_mode": {
    "name": "ipython",
    "version": 3
   },
   "file_extension": ".py",
   "mimetype": "text/x-python",
   "name": "python",
   "nbconvert_exporter": "python",
   "pygments_lexer": "ipython3",
   "version": "3.10.13"
  }
 },
 "nbformat": 4,
 "nbformat_minor": 2
}
