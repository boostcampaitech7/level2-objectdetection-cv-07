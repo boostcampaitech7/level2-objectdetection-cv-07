{
 "cells": [
  {
   "cell_type": "code",
   "execution_count": 15,
   "metadata": {},
   "outputs": [],
   "source": [
    "import sys\n",
    "import os\n",
    "\n",
    "sys.path.append('../../')\n",
    "import utils\n"
   ]
  },
  {
   "cell_type": "code",
   "execution_count": 16,
   "metadata": {},
   "outputs": [],
   "source": [
    "filename = 'exp'\n",
    "save_fold = 'result'\n",
    "\n",
    "n_files = 5\n",
    "os.makedirs(save_fold, exist_ok=True)\n",
    "conf = utils.read_json(filename + '.json')\n",
    "\n",
    "\n",
    "\n",
    "for i in range(n_files):\n",
    "    save_path = os.path.join(save_fold, f'{filename}{i}.json')\n",
    "    conf[\"saved_model_path\"] = f\"/data/ephemeral/home/Dongjin/level2-objectdetection-cv-07/transformers/Dongjin/1011_model_search/result/1015/jozhang97/deta-swin-large_{i}_img_size_720\"\n",
    "    \n",
    "    conf[\"train_info_name\"] = f\"train_{i}_5.json\"\n",
    "    conf[\"valid_info_name\"] = f\"valid_{i}_5.json\"\n",
    "    conf[\"output_dir_format\"] = f\"{{model_name}}_{i}_size_{{image_size}}\"\n",
    "    utils.save_json(conf, save_path)\n"
   ]
  },
  {
   "cell_type": "code",
   "execution_count": null,
   "metadata": {},
   "outputs": [],
   "source": []
  }
 ],
 "metadata": {
  "kernelspec": {
   "display_name": "base",
   "language": "python",
   "name": "python3"
  },
  "language_info": {
   "codemirror_mode": {
    "name": "ipython",
    "version": 3
   },
   "file_extension": ".py",
   "mimetype": "text/x-python",
   "name": "python",
   "nbconvert_exporter": "python",
   "pygments_lexer": "ipython3",
   "version": "3.10.13"
  }
 },
 "nbformat": 4,
 "nbformat_minor": 2
}
