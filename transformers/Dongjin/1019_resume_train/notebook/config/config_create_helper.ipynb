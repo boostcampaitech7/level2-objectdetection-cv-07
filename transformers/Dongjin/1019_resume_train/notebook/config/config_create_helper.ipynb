{
 "cells": [
  {
   "cell_type": "code",
   "execution_count": 1,
   "metadata": {},
   "outputs": [],
   "source": [
    "import sys\n",
    "import os\n",
    "\n",
    "sys.path.append('../../')\n",
    "import utils\n"
   ]
  },
  {
   "cell_type": "code",
   "execution_count": 4,
   "metadata": {},
   "outputs": [],
   "source": [
    "filename = 'exp'\n",
    "save_fold = 'result'\n",
    "\n",
    "\n",
    "os.makedirs(save_fold, exist_ok=True)\n",
    "conf = utils.read_json(filename + '.json')\n",
    "\n",
    "image_sizes = list(range(1000, 750, -50))\n",
    "\n",
    "for i, image_size in enumerate(image_sizes):\n",
    "    conf['image_size'] = image_size\n",
    "    save_path = os.path.join(save_fold, f'{filename}{i}.json')\n",
    "    utils.save_json(conf, save_path)\n"
   ]
  },
  {
   "cell_type": "code",
   "execution_count": null,
   "metadata": {},
   "outputs": [],
   "source": []
  }
 ],
 "metadata": {
  "kernelspec": {
   "display_name": "base",
   "language": "python",
   "name": "python3"
  },
  "language_info": {
   "codemirror_mode": {
    "name": "ipython",
    "version": 3
   },
   "file_extension": ".py",
   "mimetype": "text/x-python",
   "name": "python",
   "nbconvert_exporter": "python",
   "pygments_lexer": "ipython3",
   "version": "3.10.13"
  }
 },
 "nbformat": 4,
 "nbformat_minor": 2
}
