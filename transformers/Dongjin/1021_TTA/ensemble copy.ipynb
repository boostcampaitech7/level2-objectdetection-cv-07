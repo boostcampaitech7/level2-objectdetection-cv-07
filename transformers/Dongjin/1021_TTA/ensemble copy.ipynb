{
 "cells": [
  {
   "cell_type": "code",
   "execution_count": 8,
   "metadata": {},
   "outputs": [],
   "source": [
    "import pandas as pd\n",
    "import numpy as np\n",
    "import ensemble_boxes \n",
    "from pycocotools.coco import COCO\n",
    "import itertools\n",
    "import os\n",
    "from tqdm import tqdm"
   ]
  },
  {
   "cell_type": "code",
   "execution_count": 12,
   "metadata": {},
   "outputs": [
    {
     "name": "stdout",
     "output_type": "stream",
     "text": [
      "loading annotations into memory...\n",
      "Done (t=0.01s)\n",
      "creating index...\n",
      "index created!\n"
     ]
    }
   ],
   "source": [
    "indices = [0, 1, 2, 3, 4]\n",
    "sizes = [720, 720, 680, 720, 720]\n",
    "\n",
    "algorithms = ['nms', 'weighted_boxes_fusion']\n",
    "iou_thresholds = np.arange(0.1, 0.91, 0.1).tolist()\n",
    "output_name_format = '1022_deta_{num_file}_fold_{algorithm}_{iou_threshold:.1f}.csv'\n",
    "output_fold = 'result/ensemble-5fold'\n",
    "\n",
    "submission_file_format = 'result/ensemble-1fold/test/1022_deta-swin-large_{i}_img_size_{size}_identity_hflip_weighted_boxes_fusion_thres_0.7.csv'\n",
    "annotation_path = '../../../../data/dataset/test.json'\n",
    "submission_file_paths = []\n",
    "\n",
    "for i, size in zip(indices, sizes):\n",
    "    submission_file_path = submission_file_format.format(i=i, size=size)\n",
    "    submission_file_paths.append(submission_file_path)\n",
    "\n",
    "submission_df = [pd.read_csv(file) for file in submission_file_paths]\n",
    "image_ids = submission_df[0]['image_id'].tolist()\n",
    "\n",
    "coco = COCO(annotation_path)"
   ]
  },
  {
   "cell_type": "code",
   "execution_count": 13,
   "metadata": {},
   "outputs": [
    {
     "data": {
      "text/plain": [
       "['result/ensemble-1fold/test/1022_deta-swin-large_0_img_size_720_identity_hflip_weighted_boxes_fusion_thres_0.7.csv',\n",
       " 'result/ensemble-1fold/test/1022_deta-swin-large_1_img_size_720_identity_hflip_weighted_boxes_fusion_thres_0.7.csv',\n",
       " 'result/ensemble-1fold/test/1022_deta-swin-large_2_img_size_680_identity_hflip_weighted_boxes_fusion_thres_0.7.csv',\n",
       " 'result/ensemble-1fold/test/1022_deta-swin-large_3_img_size_720_identity_hflip_weighted_boxes_fusion_thres_0.7.csv',\n",
       " 'result/ensemble-1fold/test/1022_deta-swin-large_4_img_size_720_identity_hflip_weighted_boxes_fusion_thres_0.7.csv']"
      ]
     },
     "execution_count": 13,
     "metadata": {},
     "output_type": "execute_result"
    }
   ],
   "source": [
    "submission_file_paths"
   ]
  },
  {
   "cell_type": "code",
   "execution_count": 14,
   "metadata": {},
   "outputs": [],
   "source": [
    "def get_box_score_label(submission_df, image_id, image_info):\n",
    "    boxes_list = []\n",
    "    scores_list = []\n",
    "    labels_list = []\n",
    "\n",
    "    # 각 submission file 별로 prediction box좌표 불러오기\n",
    "    for df in submission_df:\n",
    "        predict_string = df[df['image_id'] == image_id]['PredictionString'].tolist()\n",
    "        \n",
    "        if len(predict_string) == 0:\n",
    "            continue\n",
    "        \n",
    "        predict_string = predict_string[0]\n",
    "        predict_list = str(predict_string).split()\n",
    "\n",
    "        if len(predict_list)==0 or len(predict_list)==1:\n",
    "            continue\n",
    "\n",
    "        predict_list = np.reshape(predict_list, (-1, 6))\n",
    "        box_list = []\n",
    "\n",
    "        for box in predict_list[:, 2:6].tolist():\n",
    "            # box의 각 좌표를 float형으로 변환한 후 image의 넓이와 높이로 각각 정규화\n",
    "            image_width = image_info['width']\n",
    "            image_height = image_info['height']\n",
    "\n",
    "            box[0] = float(box[0]) / image_width\n",
    "            box[1] = float(box[1]) / image_height\n",
    "            box[2] = float(box[2]) / image_width\n",
    "            box[3] = float(box[3]) / image_height\n",
    "\n",
    "            box = np.clip(box, 0, 1).tolist()\n",
    "            box_list.append(box)\n",
    "\n",
    "        boxes_list.append(box_list)\n",
    "        scores_list.append(list(map(float, predict_list[:, 1].tolist())))\n",
    "        labels_list.append(list(map(int, predict_list[:, 0].tolist())))\n",
    "\n",
    "    return boxes_list, scores_list, labels_list\n",
    "\n",
    "\n",
    "def get_prediction(boxes, scores, labels, image_width, image_height):\n",
    "    prediction_string = \"\"\n",
    "    for box, score, label in zip(boxes, scores, labels):\n",
    "        xmin, ymin = box[0] * image_width, box[1] * image_height\n",
    "        xmax, ymax = box[2] * image_width, box[3] * image_height\n",
    "        prediction_string += f'{label:.0f} {score:.5f} {xmin:.2f} {ymin:.2f} {xmax:.2f} {ymax:.2f} '\n",
    "    return prediction_string"
   ]
  },
  {
   "cell_type": "code",
   "execution_count": null,
   "metadata": {},
   "outputs": [
    {
     "name": "stderr",
     "output_type": "stream",
     "text": [
      "  0%|          | 0/4869 [00:00<?, ?it/s]"
     ]
    },
    {
     "name": "stderr",
     "output_type": "stream",
     "text": [
      "  0%|          | 12/4869 [00:05<23:31,  3.44it/s] "
     ]
    }
   ],
   "source": [
    "conf = list(enumerate(list(itertools.product(algorithms, iou_thresholds)))) # ensemble할 조건 리스트\n",
    "results = [{'prediction_strings': [], 'file_names': []} for i in range(len(conf))] # 결과 저장 리스트 선언\n",
    "\n",
    "# 각 image id 별로 submission file에서 box좌표 추출\n",
    "for i, image_id in enumerate(tqdm(image_ids)):    \n",
    "    prediction_string = ''\n",
    "    boxes_list = []\n",
    "    scores_list = []\n",
    "    labels_list = []\n",
    "\n",
    "    image_info = coco.loadImgs(i)[0]\n",
    "    image_width = image_info['width']\n",
    "    image_height = image_info['height']\n",
    "\n",
    "    boxes_list, scores_list, labels_list = get_box_score_label(submission_df, image_id, image_info)\n",
    "    \n",
    "    # 예측 box가 있다면 ensemble 수행\n",
    "    if len(boxes_list):\n",
    "        # ensemble에 필요한 인자: [box의 lists, confidence score의 lists, label의 list, iou에 사용할 threshold]\n",
    "        for j, (algorithm, iou_threshold) in conf:\n",
    "            boxes, scores, labels = getattr(ensemble_boxes, algorithm)(boxes_list, scores_list, labels_list, iou_thr=iou_threshold)\n",
    "            prediction_string = get_prediction(boxes, scores, labels, image_width, image_height)\n",
    "\n",
    "            results[j]['prediction_strings'].append(prediction_string)\n",
    "            results[j]['file_names'].append(image_id)    "
   ]
  },
  {
   "cell_type": "markdown",
   "metadata": {},
   "source": []
  },
  {
   "cell_type": "code",
   "execution_count": 7,
   "metadata": {},
   "outputs": [],
   "source": [
    "# 결과 저장하기\n",
    "num_file = len(submission_file_paths)\n",
    "os.makedirs(output_fold, exist_ok=True)\n",
    "\n",
    "for i, (algorithm, iou_threshold) in conf:\n",
    "    output_name = output_name_format.format(num_file=num_file, algorithm=algorithm, iou_threshold=iou_threshold)\n",
    "    output_path = os.path.join(output_fold, output_name)\n",
    "\n",
    "    submission = pd.DataFrame()\n",
    "    submission['PredictionString'] = results[i]['prediction_strings']\n",
    "    submission['image_id'] = results[i]['file_names']\n",
    "\n",
    "    submission.to_csv(output_path, index=False)\n",
    "    submission.head()"
   ]
  },
  {
   "cell_type": "code",
   "execution_count": null,
   "metadata": {},
   "outputs": [],
   "source": []
  }
 ],
 "metadata": {
  "kernelspec": {
   "display_name": "pytorch_project2",
   "language": "python",
   "name": "python3"
  },
  "language_info": {
   "codemirror_mode": {
    "name": "ipython",
    "version": 3
   },
   "file_extension": ".py",
   "mimetype": "text/x-python",
   "name": "python",
   "nbconvert_exporter": "python",
   "pygments_lexer": "ipython3",
   "version": "3.10.14"
  }
 },
 "nbformat": 4,
 "nbformat_minor": 2
}
