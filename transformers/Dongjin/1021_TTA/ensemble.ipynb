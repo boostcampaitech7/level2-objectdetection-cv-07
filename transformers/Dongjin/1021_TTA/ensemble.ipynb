{
 "cells": [
  {
   "cell_type": "code",
   "execution_count": 10,
   "metadata": {},
   "outputs": [],
   "source": [
    "import pandas as pd\n",
    "import numpy as np\n",
    "import ensemble_boxes \n",
    "from pycocotools.coco import COCO\n",
    "import itertools\n",
    "import os\n",
    "from tqdm import tqdm"
   ]
  },
  {
   "cell_type": "code",
   "execution_count": 45,
   "metadata": {},
   "outputs": [
    {
     "data": {
      "text/html": [
       "<div>\n",
       "<style scoped>\n",
       "    .dataframe tbody tr th:only-of-type {\n",
       "        vertical-align: middle;\n",
       "    }\n",
       "\n",
       "    .dataframe tbody tr th {\n",
       "        vertical-align: top;\n",
       "    }\n",
       "\n",
       "    .dataframe thead th {\n",
       "        text-align: right;\n",
       "    }\n",
       "</style>\n",
       "<table border=\"1\" class=\"dataframe\">\n",
       "  <thead>\n",
       "    <tr style=\"text-align: right;\">\n",
       "      <th></th>\n",
       "      <th>PredictionString</th>\n",
       "      <th>image_id</th>\n",
       "    </tr>\n",
       "  </thead>\n",
       "  <tbody>\n",
       "    <tr>\n",
       "      <th>0</th>\n",
       "      <td>7 0.8575605 602.07666 518.8392 957.3976 1022.0...</td>\n",
       "      <td>test/0000.jpg</td>\n",
       "    </tr>\n",
       "    <tr>\n",
       "      <th>1</th>\n",
       "      <td>5 0.71651125 130.04492 0.008392334 492.8197 26...</td>\n",
       "      <td>test/0001.jpg</td>\n",
       "    </tr>\n",
       "    <tr>\n",
       "      <th>2</th>\n",
       "      <td>1 0.81122565 75.83356 271.3814 427.62433 601.1...</td>\n",
       "      <td>test/0002.jpg</td>\n",
       "    </tr>\n",
       "    <tr>\n",
       "      <th>3</th>\n",
       "      <td>9 0.7855117 143.49927 262.19116 913.0812 824.0...</td>\n",
       "      <td>test/0003.jpg</td>\n",
       "    </tr>\n",
       "    <tr>\n",
       "      <th>4</th>\n",
       "      <td>1 0.8159588 196.33911 249.19266 875.6224 779.1...</td>\n",
       "      <td>test/0004.jpg</td>\n",
       "    </tr>\n",
       "    <tr>\n",
       "      <th>...</th>\n",
       "      <td>...</td>\n",
       "      <td>...</td>\n",
       "    </tr>\n",
       "    <tr>\n",
       "      <th>4866</th>\n",
       "      <td>0 0.7796096 292.21106 346.94254 670.067 687.37...</td>\n",
       "      <td>test/4866.jpg</td>\n",
       "    </tr>\n",
       "    <tr>\n",
       "      <th>4867</th>\n",
       "      <td>3 0.7924054 415.67303 326.54025 782.65845 702....</td>\n",
       "      <td>test/4867.jpg</td>\n",
       "    </tr>\n",
       "    <tr>\n",
       "      <th>4868</th>\n",
       "      <td>7 0.86894023 112.02197 448.36627 758.4912 836....</td>\n",
       "      <td>test/4868.jpg</td>\n",
       "    </tr>\n",
       "    <tr>\n",
       "      <th>4869</th>\n",
       "      <td>0 0.763658 2.0211182 239.45267 1025.8834 938.3...</td>\n",
       "      <td>test/4869.jpg</td>\n",
       "    </tr>\n",
       "    <tr>\n",
       "      <th>4870</th>\n",
       "      <td>4 0.78606874 373.0965 203.60349 624.508 843.93...</td>\n",
       "      <td>test/4870.jpg</td>\n",
       "    </tr>\n",
       "  </tbody>\n",
       "</table>\n",
       "<p>4871 rows × 2 columns</p>\n",
       "</div>"
      ],
      "text/plain": [
       "                                       PredictionString       image_id\n",
       "0     7 0.8575605 602.07666 518.8392 957.3976 1022.0...  test/0000.jpg\n",
       "1     5 0.71651125 130.04492 0.008392334 492.8197 26...  test/0001.jpg\n",
       "2     1 0.81122565 75.83356 271.3814 427.62433 601.1...  test/0002.jpg\n",
       "3     9 0.7855117 143.49927 262.19116 913.0812 824.0...  test/0003.jpg\n",
       "4     1 0.8159588 196.33911 249.19266 875.6224 779.1...  test/0004.jpg\n",
       "...                                                 ...            ...\n",
       "4866  0 0.7796096 292.21106 346.94254 670.067 687.37...  test/4866.jpg\n",
       "4867  3 0.7924054 415.67303 326.54025 782.65845 702....  test/4867.jpg\n",
       "4868  7 0.86894023 112.02197 448.36627 758.4912 836....  test/4868.jpg\n",
       "4869  0 0.763658 2.0211182 239.45267 1025.8834 938.3...  test/4869.jpg\n",
       "4870  4 0.78606874 373.0965 203.60349 624.508 843.93...  test/4870.jpg\n",
       "\n",
       "[4871 rows x 2 columns]"
      ]
     },
     "execution_count": 45,
     "metadata": {},
     "output_type": "execute_result"
    }
   ],
   "source": [
    "submission_df"
   ]
  },
  {
   "cell_type": "code",
   "execution_count": 53,
   "metadata": {},
   "outputs": [
    {
     "data": {
      "text/plain": [
       "'deta-swin-large_0_img_size_720'"
      ]
     },
     "execution_count": 53,
     "metadata": {},
     "output_type": "execute_result"
    }
   ],
   "source": []
  },
  {
   "cell_type": "code",
   "execution_count": 54,
   "metadata": {},
   "outputs": [
    {
     "name": "stdout",
     "output_type": "stream",
     "text": [
      "loading annotations into memory...\n",
      "Done (t=0.01s)\n",
      "creating index...\n",
      "index created!\n"
     ]
    }
   ],
   "source": [
    "mode = 'test'\n",
    "transforms = ['identity', 'hflip']\n",
    "prefix = '1022'\n",
    "\n",
    "submission_fold_path = f'result/TTA/{mode}'\n",
    "submission_file_format = 'deta-swin-large_0_img_size_720_{transform}.csv'\n",
    "output_name_format = prefix + '_' + submission_file_format[0:30] + '_{algorithm}_thres_{iou_threshold:.1f}.csv'\n",
    "output_fold_path = f'result/ensemble-1fold/{mode}'\n",
    "algorithms = ['nms', 'weighted_boxes_fusion']\n",
    "iou_thresholds = np.arange(0.7, 0.91, 0.1).tolist()\n",
    "\n",
    "output_path_format = output_fold_path + '/' + output_name_format\n",
    "annotation_path = '/home/jin/project/Object detection/data/dataset/test.json'\n",
    "\n",
    "submissions_df = []\n",
    "for transform in transforms:\n",
    "    submission_file_path = os.path.join(submission_fold_path, \n",
    "                                        submission_file_format.format(mode=mode, transform=transform))\n",
    "    submission_df = pd.read_csv(submission_file_path)\n",
    "    submissions_df.append(submission_df)\n",
    "\n",
    "image_ids = submissions_df[0]['image_id'].tolist()\n",
    "coco = COCO(annotation_path)"
   ]
  },
  {
   "cell_type": "code",
   "execution_count": 55,
   "metadata": {},
   "outputs": [],
   "source": [
    "def get_box_score_label(submission_df, image_id, image_info):\n",
    "    boxes_list = []\n",
    "    scores_list = []\n",
    "    labels_list = []\n",
    "\n",
    "    # 각 submission file 별로 prediction box좌표 불러오기\n",
    "    for df in submission_df:\n",
    "        predict_string = df[df['image_id'] == image_id]['PredictionString'].tolist()[0]\n",
    "        predict_list = str(predict_string).split()\n",
    "\n",
    "        if len(predict_list)==0 or len(predict_list)==1:\n",
    "            continue\n",
    "\n",
    "        predict_list = np.reshape(predict_list, (-1, 6))\n",
    "        box_list = []\n",
    "\n",
    "        for box in predict_list[:, 2:6].tolist():\n",
    "            # box의 각 좌표를 float형으로 변환한 후 image의 넓이와 높이로 각각 정규화\n",
    "            image_width = image_info['width']\n",
    "            image_height = image_info['height']\n",
    "\n",
    "            box[0] = float(box[0]) / image_width\n",
    "            box[1] = float(box[1]) / image_height\n",
    "            box[2] = float(box[2]) / image_width\n",
    "            box[3] = float(box[3]) / image_height\n",
    "\n",
    "            box = np.clip(box, 0, 1).tolist()\n",
    "            box_list.append(box)\n",
    "\n",
    "        boxes_list.append(box_list)\n",
    "        scores_list.append(list(map(float, predict_list[:, 1].tolist())))\n",
    "        labels_list.append(list(map(int, predict_list[:, 0].tolist())))\n",
    "\n",
    "    return boxes_list, scores_list, labels_list\n",
    "\n",
    "\n",
    "def get_prediction(boxes, scores, labels, image_width, image_height):\n",
    "    prediction_string = \"\"\n",
    "    for box, score, label in zip(boxes, scores, labels):\n",
    "        xmin, ymin = box[0] * image_width, box[1] * image_height\n",
    "        xmax, ymax = box[2] * image_width, box[3] * image_height\n",
    "        prediction_string += f'{label:.0f} {score:.5f} {xmin:.2f} {ymin:.2f} {xmax:.2f} {ymax:.2f} '\n",
    "    return prediction_string"
   ]
  },
  {
   "cell_type": "code",
   "execution_count": 57,
   "metadata": {},
   "outputs": [
    {
     "name": "stderr",
     "output_type": "stream",
     "text": [
      "100%|██████████| 4871/4871 [00:51<00:00, 95.50it/s] \n"
     ]
    }
   ],
   "source": [
    "def ensemble(algorithms, iou_thresholds, image_ids, submissions_df, output_path_format):\n",
    "    conf = list(enumerate(list(itertools.product(algorithms, iou_thresholds)))) # ensemble할 조건 리스트\n",
    "    results = [{'prediction_strings': [], 'file_names': []} for i in range(len(conf))] # 결과 저장 리스트 선언\n",
    "\n",
    "    # 각 image id 별로 submission file에서 box좌표 추출\n",
    "    for i, image_id in enumerate(tqdm(image_ids)):    \n",
    "        prediction_string = ''\n",
    "        boxes_list = []\n",
    "        scores_list = []\n",
    "        labels_list = []\n",
    "\n",
    "        image_info = coco.loadImgs(int(image_id[6:-4]))[0]\n",
    "        image_width = image_info['width']\n",
    "        image_height = image_info['height']\n",
    "\n",
    "        boxes_list, scores_list, labels_list = get_box_score_label(submissions_df, image_id, image_info)\n",
    "        \n",
    "        # 예측 box가 있다면 ensemble 수행\n",
    "        if len(boxes_list):\n",
    "            # ensemble에 필요한 인자: [box의 lists, confidence score의 lists, label의 list, iou에 사용할 threshold]\n",
    "            for j, (algorithm, iou_threshold) in conf:\n",
    "                boxes, scores, labels = getattr(ensemble_boxes, algorithm)(boxes_list, scores_list, labels_list, iou_thr=iou_threshold)\n",
    "                prediction_string = get_prediction(boxes, scores, labels, image_width, image_height)\n",
    "\n",
    "                results[j]['prediction_strings'].append(prediction_string)\n",
    "                results[j]['file_names'].append(image_id)    \n",
    "\n",
    "    # 결과 저장하기\n",
    "    num_file = len(submissions_df)\n",
    "    os.makedirs(output_fold_path, exist_ok=True)\n",
    "\n",
    "    for i, (algorithm, iou_threshold) in conf:\n",
    "        output_path = output_path_format.format(algorithm=algorithm, iou_threshold=iou_threshold)\n",
    "\n",
    "        submission = pd.DataFrame()\n",
    "        submission['PredictionString'] = results[i]['prediction_strings']\n",
    "        submission['image_id'] = results[i]['file_names']\n",
    "\n",
    "        submission.to_csv(output_path, index=False)\n",
    "        submission.head()"
   ]
  },
  {
   "cell_type": "markdown",
   "metadata": {},
   "source": []
  },
  {
   "cell_type": "markdown",
   "metadata": {},
   "source": []
  }
 ],
 "metadata": {
  "kernelspec": {
   "display_name": "pytorch_project2",
   "language": "python",
   "name": "python3"
  },
  "language_info": {
   "codemirror_mode": {
    "name": "ipython",
    "version": 3
   },
   "file_extension": ".py",
   "mimetype": "text/x-python",
   "name": "python",
   "nbconvert_exporter": "python",
   "pygments_lexer": "ipython3",
   "version": "3.10.14"
  }
 },
 "nbformat": 4,
 "nbformat_minor": 2
}
