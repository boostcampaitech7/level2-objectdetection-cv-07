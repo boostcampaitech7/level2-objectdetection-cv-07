{
 "cells": [
  {
   "cell_type": "code",
   "execution_count": 39,
   "metadata": {},
   "outputs": [],
   "source": [
    "from map_boxes import mean_average_precision_for_boxes\n",
    "import pandas as pd\n",
    "import numpy as np\n",
    "import json\n",
    "from tqdm import tqdm\n",
    "from pycocotools.coco import COCO\n",
    "import matplotlib.pyplot as plt"
   ]
  },
  {
   "cell_type": "code",
   "execution_count": 48,
   "metadata": {},
   "outputs": [],
   "source": [
    "select = 'valid'\n",
    "iou_threshold = 0.5\n",
    "\n",
    "GT_JSON = f'../../../Split_data/{select}_3_5.json'\n",
    "PRED_CSV = f'./result/deta-swin-large_3_img_size_720_valid.csv'\n",
    "\n",
    "LABEL_NAME = [\"General trash\", \"Paper\", \"Paper pack\", \"Metal\",\n",
    "              \"Glass\", \"Plastic\", \"Styrofoam\", \"Plastic bag\", \"Battery\", \"Clothing\"]\n",
    "\n",
    "\n"
   ]
  },
  {
   "cell_type": "code",
   "execution_count": 49,
   "metadata": {},
   "outputs": [
    {
     "name": "stderr",
     "output_type": "stream",
     "text": [
      "958it [00:00, 5203.37it/s]\n"
     ]
    }
   ],
   "source": [
    "# load ground truth\n",
    "with open(GT_JSON, 'r') as outfile:\n",
    "    test_anno = (json.load(outfile))\n",
    "\n",
    "# load prediction\n",
    "pred_df = pd.read_csv(PRED_CSV)\n",
    "\n",
    "pred = []\n",
    "file_names = pred_df['image_id'].values.tolist()\n",
    "bboxes = pred_df['PredictionString'].values.tolist()\n",
    "\n",
    "for file_name, bbox in tqdm(zip(file_names, bboxes)):\n",
    "    boxes = np.array(str(bbox).strip().split(' '))\n",
    "\n",
    "    if len(boxes) % 6 == 0:\n",
    "        boxes = boxes.reshape(-1, 6)\n",
    "    elif isinstance(bbox, float):\n",
    "        print(f'{file_name} empty box')\n",
    "        continue\n",
    "    else:\n",
    "        raise Exception('error', 'invalid box type')\n",
    "    \n",
    "    for box in boxes:\n",
    "        pred.append([file_name, box[0], box[1], float(box[2]), float(box[4]), float(box[3]), float(box[5])])"
   ]
  },
  {
   "cell_type": "code",
   "execution_count": 50,
   "metadata": {},
   "outputs": [
    {
     "name": "stdout",
     "output_type": "stream",
     "text": [
      "loading annotations into memory...\n",
      "Done (t=0.02s)\n",
      "creating index...\n",
      "index created!\n",
      "Number of files in annotations: 958\n",
      "Number of files in predictions: 958\n",
      "Unique classes: 10\n",
      "Detections length: 958\n",
      "Annotations length: 958\n",
      "0                              | 0.422468 |     804\n",
      "1                              | 0.616130 |    1214\n",
      "2                              | 0.672288 |     180\n",
      "3                              | 0.646937 |     190\n",
      "4                              | 0.786938 |     229\n",
      "5                              | 0.586005 |     595\n",
      "6                              | 0.560607 |     328\n",
      "7                              | 0.766959 |     941\n",
      "8                              | 0.861881 |      51\n",
      "9                              | 0.741529 |      55\n",
      "mAP: 0.666174\n",
      "mAP@50: 0.6661741587694356\n"
     ]
    }
   ],
   "source": [
    "gt = []\n",
    "coco = COCO(GT_JSON)\n",
    "\n",
    "for image_id in coco.getImgIds():\n",
    "    image_info = coco.loadImgs(image_id)[0]\n",
    "    annotation_id = coco.getAnnIds(imgIds=image_info['id'])\n",
    "    annotation_info_list = coco.loadAnns(annotation_id)\n",
    "    file_name = image_info['file_name']\n",
    "\n",
    "    for annotation in annotation_info_list:\n",
    "        gt.append([file_name, annotation['category_id'],\n",
    "                float(annotation['bbox'][0]),\n",
    "                float(annotation['bbox'][0]) + float(annotation['bbox'][2]),\n",
    "                float(annotation['bbox'][1]),\n",
    "                float(annotation['bbox'][1]) + float(annotation['bbox'][3])])\n",
    "        \n",
    "mean_ap, average_precisions = mean_average_precision_for_boxes(gt, pred, iou_threshold=iou_threshold)\n",
    "print(f'mAP@{iou_threshold*100:.0f}: {mean_ap}')"
   ]
  },
  {
   "cell_type": "code",
   "execution_count": null,
   "metadata": {},
   "outputs": [],
   "source": []
  },
  {
   "cell_type": "code",
   "execution_count": null,
   "metadata": {},
   "outputs": [],
   "source": []
  }
 ],
 "metadata": {
  "kernelspec": {
   "display_name": "base",
   "language": "python",
   "name": "python3"
  },
  "language_info": {
   "codemirror_mode": {
    "name": "ipython",
    "version": 3
   },
   "file_extension": ".py",
   "mimetype": "text/x-python",
   "name": "python",
   "nbconvert_exporter": "python",
   "pygments_lexer": "ipython3",
   "version": "3.10.13"
  }
 },
 "nbformat": 4,
 "nbformat_minor": 2
}
