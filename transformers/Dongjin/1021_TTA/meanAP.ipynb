{
 "cells": [
  {
   "cell_type": "code",
   "execution_count": 26,
   "metadata": {},
   "outputs": [],
   "source": [
    "from map_boxes import mean_average_precision_for_boxes\n",
    "import pandas as pd\n",
    "import numpy as np\n",
    "import json\n",
    "from tqdm import tqdm\n",
    "from pycocotools.coco import COCO\n",
    "import matplotlib.pyplot as plt"
   ]
  },
  {
   "cell_type": "code",
   "execution_count": 35,
   "metadata": {},
   "outputs": [],
   "source": [
    "select = 'valid'\n",
    "iou_threshold = 0.5\n",
    "\n",
    "GT_JSON = f'../../../Split_data/{select}_0_5.json'\n",
    "PRED_CSV = './result/paste/deta-swin-large_3_img_size_720_test_hFlip.csv' #./result/TTA/valid/deta-swin-large_0_img_size_720_hflip.csv'\n",
    "\n",
    "LABEL_NAME = [\"General trash\", \"Paper\", \"Paper pack\", \"Metal\",\n",
    "              \"Glass\", \"Plastic\", \"Styrofoam\", \"Plastic bag\", \"Battery\", \"Clothing\"]\n",
    "\n",
    "\n"
   ]
  },
  {
   "cell_type": "code",
   "execution_count": 40,
   "metadata": {},
   "outputs": [
    {
     "data": {
      "text/plain": [
       "['test/0000.jpg', '7', '0.7866849', 603.3789, 955.8824, 517.5762, 1023.17944]"
      ]
     },
     "execution_count": 40,
     "metadata": {},
     "output_type": "execute_result"
    }
   ],
   "source": [
    "pred[0]"
   ]
  },
  {
   "cell_type": "code",
   "execution_count": 38,
   "metadata": {},
   "outputs": [
    {
     "name": "stderr",
     "output_type": "stream",
     "text": [
      "1942it [00:00, 5092.53it/s]"
     ]
    },
    {
     "name": "stdout",
     "output_type": "stream",
     "text": [
      "test/1474.jpg empty box\n"
     ]
    },
    {
     "name": "stderr",
     "output_type": "stream",
     "text": [
      "4871it [00:01, 3952.86it/s]\n"
     ]
    },
    {
     "ename": "NameError",
     "evalue": "name 'prds' is not defined",
     "output_type": "error",
     "traceback": [
      "\u001b[0;31m---------------------------------------------------------------------------\u001b[0m",
      "\u001b[0;31mNameError\u001b[0m                                 Traceback (most recent call last)",
      "Cell \u001b[0;32mIn[38], line 26\u001b[0m\n\u001b[1;32m     23\u001b[0m     \u001b[38;5;28;01mfor\u001b[39;00m box \u001b[38;5;129;01min\u001b[39;00m boxes:\n\u001b[1;32m     24\u001b[0m         pred\u001b[38;5;241m.\u001b[39mappend([file_name, box[\u001b[38;5;241m0\u001b[39m], box[\u001b[38;5;241m1\u001b[39m], \u001b[38;5;28mfloat\u001b[39m(box[\u001b[38;5;241m2\u001b[39m]), \u001b[38;5;28mfloat\u001b[39m(box[\u001b[38;5;241m4\u001b[39m]), \u001b[38;5;28mfloat\u001b[39m(box[\u001b[38;5;241m3\u001b[39m]), \u001b[38;5;28mfloat\u001b[39m(box[\u001b[38;5;241m5\u001b[39m])])\n\u001b[0;32m---> 26\u001b[0m \u001b[43mprds\u001b[49m\n",
      "\u001b[0;31mNameError\u001b[0m: name 'prds' is not defined"
     ]
    }
   ],
   "source": [
    "# load ground truth\n",
    "with open(GT_JSON, 'r') as outfile:\n",
    "    test_anno = (json.load(outfile))\n",
    "\n",
    "# load prediction\n",
    "pred_df = pd.read_csv(PRED_CSV)\n",
    "\n",
    "pred = []\n",
    "file_names = pred_df['image_id'].values.tolist()\n",
    "bboxes = pred_df['PredictionString'].values.tolist()\n",
    "\n",
    "for file_name, bbox in tqdm(zip(file_names, bboxes)):\n",
    "    boxes = np.array(str(bbox).strip().split(' '))\n",
    "\n",
    "    if len(boxes) % 6 == 0:\n",
    "        boxes = boxes.reshape(-1, 6)\n",
    "    elif isinstance(bbox, float):\n",
    "        print(f'{file_name} empty box')\n",
    "        continue\n",
    "    else:\n",
    "        raise Exception('error', 'invalid box type')\n",
    "    \n",
    "    for box in boxes:\n",
    "        pred.append([file_name, box[0], box[1], float(box[2]), float(box[4]), float(box[3]), float(box[5])])\n"
   ]
  },
  {
   "cell_type": "code",
   "execution_count": null,
   "metadata": {},
   "outputs": [
    {
     "name": "stdout",
     "output_type": "stream",
     "text": [
      "loading annotations into memory...\n",
      "Done (t=0.02s)\n",
      "creating index...\n",
      "index created!\n"
     ]
    }
   ],
   "source": [
    "gt = []\n",
    "coco = COCO(GT_JSON)\n",
    "\n",
    "for image_id in coco.getImgIds():\n",
    "    image_info = coco.loadImgs(image_id)[0]\n",
    "    annotation_id = coco.getAnnIds(imgIds=image_info['id'])\n",
    "    annotation_info_list = coco.loadAnns(annotation_id)\n",
    "    file_name = image_info['file_name']\n",
    "\n",
    "    for annotation in annotation_info_list:\n",
    "        gt.append([file_name, annotation['category_id'],\n",
    "                float(annotation['bbox'][0]),\n",
    "                float(annotation['bbox'][0]) + float(annotation['bbox'][2]),\n",
    "                float(annotation['bbox'][1]),\n",
    "                float(annotation['bbox'][1]) + float(annotation['bbox'][3])])\n",
    "        \n",
    "mean_ap, average_precisions = mean_average_precision_for_boxes(gt, pred, iou_threshold=iou_threshold)\n",
    "print(f'mAP@{iou_threshold*100:.0f}: {mean_ap}')"
   ]
  },
  {
   "cell_type": "code",
   "execution_count": null,
   "metadata": {},
   "outputs": [],
   "source": []
  }
 ],
 "metadata": {
  "kernelspec": {
   "display_name": "pytorch_project2",
   "language": "python",
   "name": "python3"
  },
  "language_info": {
   "codemirror_mode": {
    "name": "ipython",
    "version": 3
   },
   "file_extension": ".py",
   "mimetype": "text/x-python",
   "name": "python",
   "nbconvert_exporter": "python",
   "pygments_lexer": "ipython3",
   "version": "3.10.14"
  }
 },
 "nbformat": 4,
 "nbformat_minor": 2
}
